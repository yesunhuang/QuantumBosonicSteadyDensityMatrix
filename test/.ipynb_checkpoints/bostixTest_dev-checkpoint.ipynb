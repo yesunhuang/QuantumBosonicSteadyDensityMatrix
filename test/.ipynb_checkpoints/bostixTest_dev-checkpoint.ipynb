{
 "cells": [
  {
   "cell_type": "code",
   "execution_count": null,
   "metadata": {},
   "outputs": [],
   "source": [
    "#import all the things we need\n",
    "%matplotlib inline\n",
    "from qutip import*\n",
    "import numpy as np\n",
    "\n",
    "from scipy import *\n",
    "\n",
    "import matplotlib.pyplot as plt\n",
    "\n",
    "import time\n",
    "\n",
    "# Here we import bostix\n",
    "from bostix.solver import DPSolver"
   ]
  },
  {
   "cell_type": "markdown",
   "metadata": {},
   "source": [
    "# Decay Test"
   ]
  },
  {
   "cell_type": "markdown",
   "metadata": {},
   "source": [
    "No pump, single mode"
   ]
  },
  {
   "cell_type": "code",
   "execution_count": null,
   "metadata": {},
   "outputs": [],
   "source": [
    "data = DPSolver(dim=[4], ham=[], col=[(1, \"a\")])\n",
    "print(data)"
   ]
  },
  {
   "cell_type": "code",
   "execution_count": 3,
   "metadata": {},
   "outputs": [
    {
     "name": "stdout",
     "output_type": "stream",
     "text": [
      "The density matrix:\n",
      "[[1.+0.j 0.+0.j 0.+0.j 0.+0.j]\n",
      " [0.+0.j 0.+0.j 0.+0.j 0.+0.j]\n",
      " [0.+0.j 0.+0.j 0.+0.j 0.+0.j]\n",
      " [0.+0.j 0.+0.j 0.+0.j 0.+0.j]]\n",
      "The population:\n",
      "0j\n"
     ]
    }
   ],
   "source": [
    "matrix_mapper = data.solve(1000, 1e-5, alpha=0.5)\n",
    "rho_ss=np.mat(matrix_mapper.row_rho().as_2d_list())\n",
    "print(\"The density matrix:\")\n",
    "print(rho_ss)\n",
    "print(\"The population:\")\n",
    "print(matrix_mapper.avg_moment([1]))"
   ]
  },
  {
   "cell_type": "markdown",
   "metadata": {},
   "source": [
    "# Single Mode Pump Test"
   ]
  },
  {
   "cell_type": "markdown",
   "metadata": {},
   "source": [
    "Pump is applied, with detuning, and the Hamiltonian can be written as\n",
    "$$\n",
    "\\hat{H}=E(\\hat{a}+\\hat{a}^\\dagger)+\\Delta\\hat{a}^\\dagger\\hat{a}\n",
    "$$"
   ]
  },
  {
   "cell_type": "markdown",
   "metadata": {},
   "source": [
    "## QuTip"
   ]
  },
  {
   "cell_type": "code",
   "execution_count": 20,
   "metadata": {},
   "outputs": [],
   "source": [
    "E=0.4\n",
    "kappa=1\n",
    "delta=0.5;\n",
    "Na=1000; \n",
    "a=destroy(Na)\n",
    "H=E*(a.dag()+a)+delta*a.dag()*a\n",
    "psi0=basis(Na,0)\n",
    "track=[a.dag()*a]\n",
    "c_ops=[]\n",
    "c_ops.append(np.sqrt(kappa)*a)"
   ]
  },
  {
   "cell_type": "code",
   "execution_count": 21,
   "metadata": {},
   "outputs": [
    {
     "name": "stdout",
     "output_type": "stream",
     "text": [
      "Time cost:13.498965978622437s\n"
     ]
    }
   ],
   "source": [
    "ts=time.time()\n",
    "rho_ss_qutip=steadystate(H,c_ops)\n",
    "te=time.time()\n",
    "t_qutip=te-ts\n",
    "print(\"Time cost:\"+str(t_qutip)+'s')"
   ]
  },
  {
   "cell_type": "code",
   "execution_count": 22,
   "metadata": {},
   "outputs": [
    {
     "name": "stdout",
     "output_type": "stream",
     "text": [
      "The density matrix:\n",
      "Quantum object: dims = [[1000], [1000]], shape = (1000, 1000), type = oper, isherm = True\n",
      "Qobj data =\n",
      "[[ 7.26149037e-01+0.j         -2.90459615e-01+0.29045961j\n",
      "  -1.82256190e-17-0.16430877j ...  0.00000000e+00+0.j\n",
      "   0.00000000e+00+0.j          0.00000000e+00+0.j        ]\n",
      " [-2.90459615e-01-0.29045961j  2.32367692e-01+0.j\n",
      "  -6.57235083e-02+0.06572351j ...  0.00000000e+00+0.j\n",
      "   0.00000000e+00+0.j          0.00000000e+00+0.j        ]\n",
      " [-1.82256190e-17+0.16430877j -6.57235083e-02-0.06572351j\n",
      "   3.71788307e-02+0.j         ...  0.00000000e+00+0.j\n",
      "   0.00000000e+00+0.j          0.00000000e+00+0.j        ]\n",
      " ...\n",
      " [ 0.00000000e+00+0.j          0.00000000e+00+0.j\n",
      "   0.00000000e+00+0.j         ...  0.00000000e+00+0.j\n",
      "   0.00000000e+00+0.j          0.00000000e+00+0.j        ]\n",
      " [ 0.00000000e+00+0.j          0.00000000e+00+0.j\n",
      "   0.00000000e+00+0.j         ...  0.00000000e+00+0.j\n",
      "   0.00000000e+00+0.j          0.00000000e+00+0.j        ]\n",
      " [ 0.00000000e+00+0.j          0.00000000e+00+0.j\n",
      "   0.00000000e+00+0.j         ...  0.00000000e+00+0.j\n",
      "   0.00000000e+00+0.j          0.00000000e+00+0.j        ]]\n"
     ]
    }
   ],
   "source": [
    "print(\"The density matrix:\")\n",
    "print(rho_ss_qutip)"
   ]
  },
  {
   "cell_type": "code",
   "execution_count": 23,
   "metadata": {},
   "outputs": [
    {
     "name": "stdout",
     "output_type": "stream",
     "text": [
      "The population:\n",
      "0.32\n"
     ]
    }
   ],
   "source": [
    "population_qutip=expect(rho_ss_qutip,a.dag()*a)\n",
    "print(\"The population:\")\n",
    "print(population_qutip)"
   ]
  },
  {
   "cell_type": "markdown",
   "metadata": {},
   "source": [
    "## Bostix"
   ]
  },
  {
   "cell_type": "code",
   "execution_count": 24,
   "metadata": {},
   "outputs": [],
   "source": [
    "H=[[E,\"a\"],[E,\"A\"],[delta,\"Aa\"]]\n",
    "c_ops=[[kappa, \"a\"]]"
   ]
  },
  {
   "cell_type": "code",
   "execution_count": 25,
   "metadata": {},
   "outputs": [
    {
     "name": "stdout",
     "output_type": "stream",
     "text": [
      "DPSolver(dim=[1000], ham=[(0.4, [2]), (0.4, [1]), (0.5, [1, 2])], col=[(1, [2])], _ep_deriver=None, _dp_solver=None)\n"
     ]
    }
   ],
   "source": [
    "data = DPSolver(dim=[Na], ham=H, col=c_ops)\n",
    "print(data)"
   ]
  },
  {
   "cell_type": "code",
   "execution_count": 26,
   "metadata": {},
   "outputs": [
    {
     "name": "stdout",
     "output_type": "stream",
     "text": [
      "Time cost:56.67301535606384s\n"
     ]
    }
   ],
   "source": [
    "ts=time.time()\n",
    "matrix_mapper = data.solve(1000, 1e-5, alpha=0.5)\n",
    "te=time.time()\n",
    "t_bostix=te-ts\n",
    "print(\"Time cost:\"+str(t_bostix)+'s')"
   ]
  },
  {
   "cell_type": "code",
   "execution_count": 27,
   "metadata": {},
   "outputs": [
    {
     "name": "stdout",
     "output_type": "stream",
     "text": [
      "The density matrix:\n",
      "[[ 7.26149037e-01+1.18606665e-19j -2.90459615e-01+2.90459615e-01j\n",
      "  -5.33994813e-11-1.64308771e-01j ...  0.00000000e+00+0.00000000e+00j\n",
      "   0.00000000e+00+0.00000000e+00j  0.00000000e+00+0.00000000e+00j]\n",
      " [-2.90459615e-01-2.90459615e-01j  2.32367692e-01-8.22590093e-20j\n",
      "  -6.57235082e-02+6.57235082e-02j ...  0.00000000e+00+0.00000000e+00j\n",
      "   0.00000000e+00+0.00000000e+00j  0.00000000e+00+0.00000000e+00j]\n",
      " [-5.33994813e-11+1.64308771e-01j -6.57235082e-02-6.57235082e-02j\n",
      "   3.71788307e-02-3.27129868e-20j ...  0.00000000e+00+0.00000000e+00j\n",
      "   0.00000000e+00+0.00000000e+00j  0.00000000e+00+0.00000000e+00j]\n",
      " ...\n",
      " [ 0.00000000e+00+0.00000000e+00j  0.00000000e+00+0.00000000e+00j\n",
      "   0.00000000e+00+0.00000000e+00j ...  0.00000000e+00+0.00000000e+00j\n",
      "   0.00000000e+00+0.00000000e+00j  0.00000000e+00+0.00000000e+00j]\n",
      " [ 0.00000000e+00+0.00000000e+00j  0.00000000e+00+0.00000000e+00j\n",
      "   0.00000000e+00+0.00000000e+00j ...  0.00000000e+00+0.00000000e+00j\n",
      "   0.00000000e+00+0.00000000e+00j  0.00000000e+00+0.00000000e+00j]\n",
      " [ 0.00000000e+00+0.00000000e+00j  0.00000000e+00+0.00000000e+00j\n",
      "   0.00000000e+00+0.00000000e+00j ...  0.00000000e+00+0.00000000e+00j\n",
      "   0.00000000e+00+0.00000000e+00j  0.00000000e+00+0.00000000e+00j]]\n",
      "The population:\n",
      "0.3199999998771877\n"
     ]
    }
   ],
   "source": [
    "rho_ss=np.mat(matrix_mapper.row_rho().as_2d_list())\n",
    "print(\"The density matrix:\")\n",
    "print(rho_ss)\n",
    "print(\"The population:\")\n",
    "print(np.real(matrix_mapper.avg_moment([1])))"
   ]
  },
  {
   "cell_type": "markdown",
   "metadata": {},
   "source": [
    "# Decay Rabi Pump Test"
   ]
  },
  {
   "cell_type": "markdown",
   "metadata": {},
   "source": [
    "Two modes with coupling strength g and single mode pumping.\n",
    "$$\n",
    "\\hat{H}=E(\\hat{a}+\\hat{a}^\\dagger)+g(\\hat{a}\\hat{b}^\\dagger+\\hat{a}^\\dagger b)\n",
    "$$"
   ]
  },
  {
   "cell_type": "code",
   "execution_count": 57,
   "metadata": {},
   "outputs": [],
   "source": [
    "g=0.4\n",
    "E=0.1\n",
    "kappa_a=1;\n",
    "kappa_b=1;\n",
    "Na=3; Nb=3\n",
    "psi0=tensor(basis(Na,0),basis(Nb,0))\n",
    "a=tensor(destroy(Na),qeye(Nb))\n",
    "b=tensor(qeye(Na),destroy(Nb))\n",
    "H=g*(b*a.dag()+b.dag()*a)+E*(a.dag()+a)\n",
    "c_ops=[]\n",
    "c_ops.append(np.sqrt(kappa_a)*a)\n",
    "c_ops.append(np.sqrt(kappa_b)*b)\n",
    "track=a.dag()*a*b.dag()*b"
   ]
  },
  {
   "cell_type": "code",
   "execution_count": 58,
   "metadata": {},
   "outputs": [
    {
     "name": "stdout",
     "output_type": "stream",
     "text": [
      "Time cost:0.004966259002685547s\n"
     ]
    }
   ],
   "source": [
    "ts=time.time()\n",
    "rho_ss_qutip=steadystate(H,c_ops)\n",
    "te=time.time()\n",
    "t_qutip=te-ts\n",
    "print(\"Time cost:\"+str(t_qutip)+'s')"
   ]
  },
  {
   "cell_type": "code",
   "execution_count": 59,
   "metadata": {},
   "outputs": [
    {
     "name": "stdout",
     "output_type": "stream",
     "text": [
      "The density matrix:\n",
      "Quantum object: dims = [[3, 3], [3, 3]], shape = (9, 9), type = oper, isherm = True\n",
      "Qobj data =\n",
      "[[ 9.75905838e-01+0.00000000e+00j -9.51970246e-02+0.00000000e+00j\n",
      "   6.50238433e-03+0.00000000e+00j  0.00000000e+00+1.19018764e-01j\n",
      "   0.00000000e+00-1.16043157e-02j  0.00000000e+00+7.87523639e-04j\n",
      "  -1.02086128e-02+0.00000000e+00j  6.73666336e-04+0.00000000e+00j\n",
      "  -5.53488183e-05+0.00000000e+00j]\n",
      " [-9.51970246e-02+0.00000000e+00j  9.28741979e-03+0.00000000e+00j\n",
      "  -6.34394739e-04+0.00000000e+00j  0.00000000e+00-1.16105282e-02j\n",
      "   0.00000000e+00+1.13210656e-03j  0.00000000e+00-7.68337761e-05j\n",
      "   9.95850257e-04+0.00000000e+00j -6.57209748e-05+0.00000000e+00j\n",
      "   5.39999552e-06+0.00000000e+00j]\n",
      " [ 6.50238433e-03+0.00000000e+00j -6.34394739e-04+0.00000000e+00j\n",
      "   4.35733538e-05+0.00000000e+00j  0.00000000e+00+7.93038070e-04j\n",
      "   0.00000000e+00-7.73950018e-05j  0.00000000e+00+5.28093253e-06j\n",
      "  -6.82067763e-05+0.00000000e+00j  4.48705263e-06+0.00000000e+00j\n",
      "  -3.71977817e-07+0.00000000e+00j]\n",
      " [ 0.00000000e+00-1.19018764e-01j  0.00000000e+00+1.16105282e-02j\n",
      "   0.00000000e+00-7.93038070e-04j  1.45163330e-02+0.00000000e+00j\n",
      "  -1.41532136e-03+0.00000000e+00j  9.60482548e-05+0.00000000e+00j\n",
      "   0.00000000e+00+1.24510952e-03j  0.00000000e+00-8.21639423e-05j\n",
      "   0.00000000e+00+6.75024457e-06j]\n",
      " [ 0.00000000e+00+1.16043157e-02j  0.00000000e+00-1.13210656e-03j\n",
      "   0.00000000e+00+7.73950018e-05j -1.41532136e-03+0.00000000e+00j\n",
      "   1.38271815e-04+0.00000000e+00j -9.38357961e-06+0.00000000e+00j\n",
      "   0.00000000e+00-1.21745432e-04j  0.00000000e+00+8.04606615e-06j\n",
      "   0.00000000e+00-6.60458362e-07j]\n",
      " [ 0.00000000e+00-7.87523639e-04j  0.00000000e+00+7.68337761e-05j\n",
      "   0.00000000e+00-5.28093253e-06j  9.60482548e-05+0.00000000e+00j\n",
      "  -9.38357961e-06+0.00000000e+00j  6.40445189e-07+0.00000000e+00j\n",
      "   0.00000000e+00+8.27358844e-06j  0.00000000e+00-5.44708772e-07j\n",
      "   0.00000000e+00+4.51485901e-08j]\n",
      " [-1.02086128e-02+0.00000000e+00j  9.95850257e-04+0.00000000e+00j\n",
      "  -6.82067763e-05+0.00000000e+00j  0.00000000e+00-1.24510952e-03j\n",
      "   0.00000000e+00+1.21745432e-04j  0.00000000e+00-8.27358844e-06j\n",
      "   1.07450564e-04+0.00000000e+00j -7.08839986e-06+0.00000000e+00j\n",
      "   5.83693057e-07+0.00000000e+00j]\n",
      " [ 6.73666336e-04+0.00000000e+00j -6.57209748e-05+0.00000000e+00j\n",
      "   4.48705263e-06+0.00000000e+00j  0.00000000e+00+8.21639423e-05j\n",
      "   0.00000000e+00-8.04606615e-06j  0.00000000e+00+5.44708772e-07j\n",
      "  -7.08839986e-06+0.00000000e+00j  4.70207371e-07+0.00000000e+00j\n",
      "  -3.83764281e-08+0.00000000e+00j]\n",
      " [-5.53488183e-05+0.00000000e+00j  5.39999552e-06+0.00000000e+00j\n",
      "  -3.71977817e-07+0.00000000e+00j  0.00000000e+00-6.75024457e-06j\n",
      "   0.00000000e+00+6.60458362e-07j  0.00000000e+00-4.51485901e-08j\n",
      "   5.83693057e-07+0.00000000e+00j -3.83764281e-08+0.00000000e+00j\n",
      "   3.19248743e-09+0.00000000e+00j]]\n"
     ]
    }
   ],
   "source": [
    "print(\"The density matrix:\")\n",
    "print(rho_ss_qutip)"
   ]
  },
  {
   "cell_type": "code",
   "execution_count": 60,
   "metadata": {},
   "outputs": [
    {
     "name": "stdout",
     "output_type": "stream",
     "text": [
      "The population:\n",
      "0.00014050588966242416\n"
     ]
    }
   ],
   "source": [
    "population_qutip=expect(rho_ss_qutip,track)\n",
    "print(\"The population:\")\n",
    "print(population_qutip)"
   ]
  },
  {
   "cell_type": "markdown",
   "metadata": {},
   "source": [
    "## Bostix"
   ]
  },
  {
   "cell_type": "code",
   "execution_count": 69,
   "metadata": {},
   "outputs": [],
   "source": [
    "H=[[E,\"a\"],[E,\"A\"],[g,\"aB\"],[g,\"Ab\"]]\n",
    "c_ops=[[kappa_a, \"a\"],[kappa_b,\"b\"]]"
   ]
  },
  {
   "cell_type": "code",
   "execution_count": 70,
   "metadata": {},
   "outputs": [
    {
     "name": "stdout",
     "output_type": "stream",
     "text": [
      "DPSolver(dim=[3, 3], ham=[(0.1, [2]), (0.1, [1]), (0.4, [2, 3]), (0.4, [1, 4])], col=[(1, [2]), (1, [4])], _ep_deriver=None, _dp_solver=None)\n"
     ]
    }
   ],
   "source": [
    "data = DPSolver(dim=[Na,Nb], ham=H, col=c_ops)\n",
    "print(data)"
   ]
  },
  {
   "cell_type": "code",
   "execution_count": 71,
   "metadata": {},
   "outputs": [
    {
     "name": "stdout",
     "output_type": "stream",
     "text": [
      "Time cost:0.01296854019165039s\n"
     ]
    }
   ],
   "source": [
    "ts=time.time()\n",
    "matrix_mapper = data.solve(1000, 1e-5, alpha=0.5)\n",
    "te=time.time()\n",
    "t_bostix=te-ts\n",
    "print(\"Time cost:\"+str(t_bostix)+'s')"
   ]
  },
  {
   "cell_type": "code",
   "execution_count": 68,
   "metadata": {},
   "outputs": [
    {
     "name": "stdout",
     "output_type": "stream",
     "text": [
      "The density Matrix:\n",
      "[[ 9.75905838e-01+0.00000000e+00j -9.51970245e-02+0.00000000e+00j\n",
      "   6.50238435e-03+0.00000000e+00j  0.00000000e+00+1.19018764e-01j\n",
      "   0.00000000e+00-1.16043157e-02j  0.00000000e+00+7.87523636e-04j\n",
      "  -1.02086128e-02+0.00000000e+00j  6.73666339e-04+0.00000000e+00j\n",
      "  -5.53488182e-05+0.00000000e+00j]\n",
      " [-9.51970245e-02+0.00000000e+00j  9.28741982e-03+0.00000000e+00j\n",
      "  -6.34394735e-04+0.00000000e+00j  0.00000000e+00-1.16105283e-02j\n",
      "   0.00000000e+00+1.13210654e-03j  0.00000000e+00-7.68337774e-05j\n",
      "   9.95850264e-04+0.00000000e+00j -6.57209741e-05+0.00000000e+00j\n",
      "   5.39999554e-06+0.00000000e+00j]\n",
      " [ 6.50238435e-03+0.00000000e+00j -6.34394735e-04+0.00000000e+00j\n",
      "   4.35733538e-05+0.00000000e+00j  0.00000000e+00+7.93038061e-04j\n",
      "   0.00000000e+00-7.73950045e-05j  0.00000000e+00+5.28093229e-06j\n",
      "  -6.82067758e-05+0.00000000e+00j  4.48705256e-06+0.00000000e+00j\n",
      "  -3.71977825e-07+0.00000000e+00j]\n",
      " [ 0.00000000e+00-1.19018764e-01j  0.00000000e+00+1.16105283e-02j\n",
      "   0.00000000e+00-7.93038061e-04j  1.45163330e-02+0.00000000e+00j\n",
      "  -1.41532137e-03+0.00000000e+00j  9.60482541e-05+0.00000000e+00j\n",
      "   0.00000000e+00+1.24510953e-03j  0.00000000e+00-8.21639400e-05j\n",
      "   0.00000000e+00+6.75024468e-06j]\n",
      " [ 0.00000000e+00+1.16043157e-02j  0.00000000e+00-1.13210654e-03j\n",
      "   0.00000000e+00+7.73950045e-05j -1.41532137e-03+0.00000000e+00j\n",
      "   1.38271814e-04+0.00000000e+00j -9.38357954e-06+0.00000000e+00j\n",
      "   0.00000000e+00-1.21745428e-04j  0.00000000e+00+8.04606679e-06j\n",
      "   0.00000000e+00-6.60458334e-07j]\n",
      " [ 0.00000000e+00-7.87523636e-04j  0.00000000e+00+7.68337774e-05j\n",
      "   0.00000000e+00-5.28093229e-06j  9.60482541e-05+0.00000000e+00j\n",
      "  -9.38357954e-06+0.00000000e+00j  6.40445225e-07+0.00000000e+00j\n",
      "   0.00000000e+00+8.27358888e-06j  0.00000000e+00-5.44708717e-07j\n",
      "   0.00000000e+00+4.51485925e-08j]\n",
      " [-1.02086128e-02+0.00000000e+00j  9.95850264e-04+0.00000000e+00j\n",
      "  -6.82067758e-05+0.00000000e+00j  0.00000000e+00-1.24510953e-03j\n",
      "   0.00000000e+00+1.21745428e-04j  0.00000000e+00-8.27358888e-06j\n",
      "   1.07450566e-04+0.00000000e+00j -7.08839982e-06+0.00000000e+00j\n",
      "   5.83693052e-07+0.00000000e+00j]\n",
      " [ 6.73666339e-04+0.00000000e+00j -6.57209741e-05+0.00000000e+00j\n",
      "   4.48705256e-06+0.00000000e+00j  0.00000000e+00+8.21639400e-05j\n",
      "   0.00000000e+00-8.04606679e-06j  0.00000000e+00+5.44708717e-07j\n",
      "  -7.08839982e-06+0.00000000e+00j  4.70207332e-07+0.00000000e+00j\n",
      "  -3.83764319e-08+0.00000000e+00j]\n",
      " [-5.53488182e-05+0.00000000e+00j  5.39999554e-06+0.00000000e+00j\n",
      "  -3.71977825e-07+0.00000000e+00j  0.00000000e+00-6.75024468e-06j\n",
      "   0.00000000e+00+6.60458334e-07j  0.00000000e+00-4.51485925e-08j\n",
      "   5.83693052e-07+0.00000000e+00j -3.83764319e-08+0.00000000e+00j\n",
      "   3.19248710e-09+0.00000000e+00j]]\n",
      "Population:\n",
      "0.00014050588865670256\n"
     ]
    }
   ],
   "source": [
    "rho_ss=np.mat(matrix_mapper.row_rho().as_2d_list())\n",
    "print(\"The density Matrix:\")\n",
    "print(rho_ss)\n",
    "print(\"Population:\")\n",
    "print(np.real(matrix_mapper.avg_moment([1,1])))"
   ]
  },
  {
   "cell_type": "markdown",
   "metadata": {},
   "source": [
    "# SHG"
   ]
  },
  {
   "cell_type": "markdown",
   "metadata": {},
   "source": [
    "## QuTiP"
   ]
  },
  {
   "cell_type": "code",
   "execution_count": 45,
   "metadata": {},
   "outputs": [],
   "source": [
    "g=0.1\n",
    "E=0.1\n",
    "kappa_a=1;\n",
    "kappa_b=1;\n",
    "Na=3; Nb=2\n",
    "psi0=tensor(basis(Na,0),basis(Nb,0))\n",
    "a=tensor(destroy(Na),qeye(Nb))\n",
    "b=tensor(qeye(Na),destroy(Nb))\n",
    "H=g*(b*a.dag()*a.dag()+b.dag()*a*a)+E*(a.dag()+a)\n",
    "c_ops=[]\n",
    "c_ops.append(np.sqrt(kappa_a)*a)\n",
    "c_ops.append(np.sqrt(kappa_b)*b)\n",
    "track=a.dag()*a*b.dag()*b"
   ]
  },
  {
   "cell_type": "code",
   "execution_count": 46,
   "metadata": {},
   "outputs": [
    {
     "name": "stdout",
     "output_type": "stream",
     "text": [
      "Time cost:0.002995014190673828ms\n"
     ]
    }
   ],
   "source": [
    "ts=time.time()\n",
    "rho_ss_qutip=steadystate(H,c_ops)\n",
    "te=time.time()\n",
    "t_qutip=te-ts\n",
    "print(\"Time cost:\"+str(t_qutip)+'ms')"
   ]
  },
  {
   "cell_type": "code",
   "execution_count": 47,
   "metadata": {},
   "outputs": [
    {
     "name": "stdout",
     "output_type": "stream",
     "text": [
      "The density matrix\n",
      "Quantum object: dims = [[3, 2], [3, 2]], shape = (6, 6), type = oper, isherm = True\n",
      "Qobj data =\n",
      "[[ 9.60947808e-01+0.00000000e+00j  0.00000000e+00-7.09947142e-03j\n",
      "   0.00000000e+00+1.91775391e-01j  7.05128610e-04+0.00000000e+00j\n",
      "  -2.56057598e-02+0.00000000e+00j  0.00000000e+00+6.56052940e-05j]\n",
      " [ 0.00000000e+00+7.09947142e-03j  5.40851533e-05+0.00000000e+00j\n",
      "  -1.41945847e-03+0.00000000e+00j  0.00000000e+00+5.37234605e-06j\n",
      "   0.00000000e+00-1.93127665e-04j -5.04326020e-07+0.00000000e+00j]\n",
      " [ 0.00000000e+00-1.91775391e-01j -1.41945847e-03+0.00000000e+00j\n",
      "   3.83009930e-02+0.00000000e+00j  0.00000000e+00-1.40993133e-04j\n",
      "   0.00000000e+00+5.11863487e-03j  1.31230328e-05+0.00000000e+00j]\n",
      " [ 7.05128610e-04+0.00000000e+00j  0.00000000e+00-5.37234605e-06j\n",
      "   0.00000000e+00+1.40993133e-04j  5.34869931e-07+0.00000000e+00j\n",
      "  -1.91192692e-05+0.00000000e+00j  0.00000000e+00+5.01623208e-08j]\n",
      " [-2.56057598e-02+0.00000000e+00j  0.00000000e+00+1.93127665e-04j\n",
      "   0.00000000e+00-5.11863487e-03j -1.91192692e-05+0.00000000e+00j\n",
      "   6.96574273e-04+0.00000000e+00j  0.00000000e+00-1.79537104e-06j]\n",
      " [ 0.00000000e+00-6.56052940e-05j -5.04326020e-07+0.00000000e+00j\n",
      "   1.31230328e-05+0.00000000e+00j  0.00000000e+00-5.01623208e-08j\n",
      "   0.00000000e+00+1.79537104e-06j  4.72934896e-09+0.00000000e+00j]]\n"
     ]
    }
   ],
   "source": [
    "print(\"The density matrix\")\n",
    "print(rho_ss_qutip)"
   ]
  },
  {
   "cell_type": "code",
   "execution_count": 48,
   "metadata": {},
   "outputs": [
    {
     "name": "stdout",
     "output_type": "stream",
     "text": [
      "The population\n",
      "5.443286285836267e-07\n"
     ]
    }
   ],
   "source": [
    "population_qutip=expect(rho_ss_qutip,track)\n",
    "print(\"The population\")\n",
    "print(population_qutip)"
   ]
  },
  {
   "cell_type": "markdown",
   "metadata": {},
   "source": [
    "## Bostix"
   ]
  },
  {
   "cell_type": "code",
   "execution_count": 49,
   "metadata": {},
   "outputs": [],
   "source": [
    "H=[[E,\"a\"],[E,\"A\"],[g,\"aBB\"],[g,\"Abb\"]]\n",
    "c_ops=[[kappa_a, \"a\"],[kappa_b,\"b\"]]"
   ]
  },
  {
   "cell_type": "code",
   "execution_count": 50,
   "metadata": {},
   "outputs": [
    {
     "name": "stdout",
     "output_type": "stream",
     "text": [
      "DPSolver(dim=[3, 2], ham=[(0.1, [2]), (0.1, [1]), (0.1, [2, 3, 3]), (0.1, [1, 4, 4])], col=[(1, [2]), (1, [4])], _ep_deriver=None, _dp_solver=None)\n"
     ]
    }
   ],
   "source": [
    "data = DPSolver(dim=[Na,Nb], ham=H, col=c_ops)\n",
    "print(data)"
   ]
  },
  {
   "cell_type": "code",
   "execution_count": 51,
   "metadata": {},
   "outputs": [
    {
     "name": "stdout",
     "output_type": "stream",
     "text": [
      "Time cost:0.0069544315338134766ms\n"
     ]
    }
   ],
   "source": [
    "ts=time.time()\n",
    "matrix_mapper = data.solve(1000, 1e-6, alpha=0.5)\n",
    "te=time.time()\n",
    "t_bostix=te-ts\n",
    "print(\"Time cost:\"+str(t_bostix)+'ms')"
   ]
  },
  {
   "cell_type": "code",
   "execution_count": 52,
   "metadata": {},
   "outputs": [
    {
     "name": "stdout",
     "output_type": "stream",
     "text": [
      "The density matrix\n",
      "[[ 9.60843373e-01+0.j          0.00000000e+00+0.j\n",
      "   0.00000000e+00+0.19201807j  0.00000000e+00+0.j\n",
      "  -2.66229963e-02+0.j          0.00000000e+00+0.j        ]\n",
      " [ 0.00000000e+00+0.j          0.00000000e+00+0.j\n",
      "   0.00000000e+00+0.j          0.00000000e+00+0.j\n",
      "   0.00000000e+00+0.j          0.00000000e+00+0.j        ]\n",
      " [ 0.00000000e+00-0.19201807j  0.00000000e+00+0.j\n",
      "   3.84036145e-02+0.j          0.00000000e+00+0.j\n",
      "   0.00000000e+00+0.0053246j   0.00000000e+00+0.j        ]\n",
      " [ 0.00000000e+00+0.j          0.00000000e+00+0.j\n",
      "   0.00000000e+00+0.j          0.00000000e+00+0.j\n",
      "   0.00000000e+00+0.j          0.00000000e+00+0.j        ]\n",
      " [-2.66229963e-02+0.j          0.00000000e+00+0.j\n",
      "   0.00000000e+00-0.0053246j   0.00000000e+00+0.j\n",
      "   7.53012048e-04+0.j          0.00000000e+00+0.j        ]\n",
      " [ 0.00000000e+00+0.j          0.00000000e+00+0.j\n",
      "   0.00000000e+00+0.j          0.00000000e+00+0.j\n",
      "   0.00000000e+00+0.j          0.00000000e+00+0.j        ]]\n",
      "The population\n",
      "0.0\n"
     ]
    }
   ],
   "source": [
    "rho_ss=np.mat(matrix_mapper.row_rho().as_2d_list())\n",
    "print(\"The density matrix\")\n",
    "print(rho_ss)\n",
    "print(\"The population\")\n",
    "print(np.real(matrix_mapper.avg_moment([1,1])))"
   ]
  },
  {
   "cell_type": "markdown",
   "metadata": {},
   "source": [
    "# Acknownledgement"
   ]
  },
  {
   "cell_type": "markdown",
   "metadata": {},
   "source": [
    "The package and the test code can be found here: [Bostix](https://github.com/yesunhuang/QuantumBosonicSteadyDensityMatrix)\n",
    "\n",
    "Document Author: YesunHuang\n",
    "\n",
    "Package Author: YesunHuang&ChaoGu&KeLin&Mint"
   ]
  }
 ],
 "metadata": {
  "kernelspec": {
   "display_name": "qcls_dev",
   "language": "python",
   "name": "qcls_dev"
  },
  "language_info": {
   "codemirror_mode": {
    "name": "ipython",
    "version": 3
   },
   "file_extension": ".py",
   "mimetype": "text/x-python",
   "name": "python",
   "nbconvert_exporter": "python",
   "pygments_lexer": "ipython3",
   "version": "3.8.5"
  },
  "toc": {
   "base_numbering": 1,
   "nav_menu": {},
   "number_sections": true,
   "sideBar": true,
   "skip_h1_title": false,
   "title_cell": "Table of Contents",
   "title_sidebar": "Contents",
   "toc_cell": false,
   "toc_position": {},
   "toc_section_display": true,
   "toc_window_display": false
  }
 },
 "nbformat": 4,
 "nbformat_minor": 4
}
