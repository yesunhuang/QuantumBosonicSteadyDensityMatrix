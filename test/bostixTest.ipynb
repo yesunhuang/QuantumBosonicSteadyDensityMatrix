{
 "cells": [
  {
   "cell_type": "code",
   "execution_count": 1,
   "metadata": {},
   "outputs": [],
   "source": [
    "#import all the things we need\n",
    "%matplotlib inline\n",
    "from qutip import*\n",
    "import numpy as np\n",
    "\n",
    "from scipy import *\n",
    "\n",
    "import matplotlib.pyplot as plt\n",
    "\n",
    "import time\n",
    "\n",
    "# Here we import bostix\n",
    "from bostix.solver import DPSolver"
   ]
  },
  {
   "cell_type": "markdown",
   "metadata": {},
   "source": [
    "# Decay Test"
   ]
  },
  {
   "cell_type": "markdown",
   "metadata": {},
   "source": [
    "No pump, single mode"
   ]
  },
  {
   "cell_type": "code",
   "execution_count": 2,
   "metadata": {},
   "outputs": [
    {
     "name": "stdout",
     "output_type": "stream",
     "text": [
      "DPSolver(dim=[4], ham=[], col=[(1, [2])], _ep_deriver=None, _dp_solver=None)\n"
     ]
    }
   ],
   "source": [
    "data = DPSolver(dim=[4], ham=[], col=[(1, \"a\")])\n",
    "print(data)"
   ]
  },
  {
   "cell_type": "code",
   "execution_count": 3,
   "metadata": {},
   "outputs": [
    {
     "name": "stdout",
     "output_type": "stream",
     "text": [
      "The density matrix:\n",
      "[[1.+0.j 0.+0.j 0.+0.j 0.+0.j]\n",
      " [0.+0.j 0.+0.j 0.+0.j 0.+0.j]\n",
      " [0.+0.j 0.+0.j 0.+0.j 0.+0.j]\n",
      " [0.+0.j 0.+0.j 0.+0.j 0.+0.j]]\n",
      "The population:\n",
      "0j\n"
     ]
    }
   ],
   "source": [
    "matrix_mapper = data.solve(2, 1e-5, alpha=0.5)\n",
    "rho_ss=np.mat(matrix_mapper.row_rho().as_2d_list())\n",
    "print(\"The density matrix:\")\n",
    "print(rho_ss)\n",
    "print(\"The population:\")\n",
    "print(matrix_mapper.avg_moment([1]))"
   ]
  },
  {
   "cell_type": "markdown",
   "metadata": {},
   "source": [
    "# Single Mode Pump Test"
   ]
  },
  {
   "cell_type": "markdown",
   "metadata": {},
   "source": [
    "Pump is applied, with detuning, and the Hamiltonian can be written as\n",
    "$$\n",
    "\\hat{H}=E(\\hat{a}+\\hat{a}^\\dagger)+\\Delta\\hat{a}^\\dagger\\hat{a}\n",
    "$$"
   ]
  },
  {
   "cell_type": "markdown",
   "metadata": {},
   "source": [
    "## QuTip"
   ]
  },
  {
   "cell_type": "code",
   "execution_count": 4,
   "metadata": {},
   "outputs": [],
   "source": [
    "E=0.3\n",
    "kappa=1\n",
    "delta=0.5;\n",
    "Na=3; \n",
    "a=destroy(Na)\n",
    "H=E*(a.dag()+a)+delta*a.dag()*a\n",
    "psi0=basis(Na,0)\n",
    "track=[a.dag()*a]\n",
    "c_ops=[]\n",
    "c_ops.append(np.sqrt(kappa)*a)"
   ]
  },
  {
   "cell_type": "code",
   "execution_count": 5,
   "metadata": {},
   "outputs": [],
   "source": [
    "tlist=np.linspace(0,15,1000)\n",
    "opts = Options()\n",
    "opts.store_states=True\n",
    "ts=time.time()\n",
    "output=mesolve(H,psi0,tlist,c_ops,track,options=opts)\n",
    "te=time.time()\n",
    "t_qutip_f=te-ts"
   ]
  },
  {
   "cell_type": "code",
   "execution_count": 6,
   "metadata": {},
   "outputs": [
    {
     "data": {
      "text/plain": [
       "Text(0, 0.5, '$N_a$')"
      ]
     },
     "execution_count": 6,
     "metadata": {},
     "output_type": "execute_result"
    },
    {
     "data": {
      "image/png": "[encoded data removed]",
      "text/plain": [
       "<Figure size 400x400 with 1 Axes>"
      ]
     },
     "metadata": {},
     "output_type": "display_data"
    }
   ],
   "source": [
    "fig, axes = plt.subplots(1,1,figsize=(4,4))\n",
    "\n",
    "#axes.yaxis.set_major_formatter(FormatStrFormatter('%.1f'))\n",
    "\n",
    "axes.plot(tlist, output.expect[0],linewidth=3,label=\"QME\")\n",
    "\n",
    "axes.legend(loc=0,ncol=1,frameon=False)\n",
    "\n",
    "axes.set_xlabel('Time/'+r'$\\kappa_a$')\n",
    "axes.set_ylabel(r'$N_a$')"
   ]
  },
  {
   "cell_type": "code",
   "execution_count": 7,
   "metadata": {},
   "outputs": [
    {
     "name": "stdout",
     "output_type": "stream",
     "text": [
      "Time cost:0.03219246864318848s\n",
      "Time cost:0.0022177696228027344s\n"
     ]
    }
   ],
   "source": [
    "ts=time.time()\n",
    "rho_ss_qutip=steadystate(H,c_ops)\n",
    "te=time.time()\n",
    "t_qutip=te-ts\n",
    "print(\"Time cost:\"+str(t_qutip_f)+'s')\n",
    "print(\"Time cost:\"+str(t_qutip)+'s')"
   ]
  },
  {
   "cell_type": "code",
   "execution_count": 8,
   "metadata": {},
   "outputs": [
    {
     "name": "stdout",
     "output_type": "stream",
     "text": [
      "The density matrix:\n",
      "Quantum object: dims = [[3], [3]], shape = (3, 3), type = oper, isherm = True\n",
      "Qobj data =\n",
      "[[ 8.38910636e-01-1.56314258e-18j -2.47910401e-01+2.48091510e-01j\n",
      "  -6.44795718e-05-9.65373685e-02j]\n",
      " [-2.47910401e-01-2.48091510e-01j  1.48802476e-01+3.96092859e-18j\n",
      "  -2.89529191e-02+2.89693308e-02j]\n",
      " [-6.44795718e-05+9.65373685e-02j -2.89529191e-02-2.89693308e-02j\n",
      "   1.22868877e-02-2.71113140e-18j]]\n",
      "Quantum object: dims = [[3], [3]], shape = (3, 3), type = oper, isherm = True\n",
      "Qobj data =\n",
      "[[ 8.38920067e-01+0.j         -2.47990293e-01+0.24799029j\n",
      "  -3.46944695e-18-0.09652603j]\n",
      " [-2.47990293e-01-0.24799029j  1.48794176e-01+0.j\n",
      "  -2.89578084e-02+0.02895781j]\n",
      " [-3.46944695e-18+0.09652603j -2.89578084e-02-0.02895781j\n",
      "   1.22857576e-02+0.j        ]]\n"
     ]
    }
   ],
   "source": [
    "print(\"The density matrix:\")\n",
    "print(output.states[-1])\n",
    "print(rho_ss_qutip)"
   ]
  },
  {
   "cell_type": "code",
   "execution_count": 9,
   "metadata": {
    "scrolled": true
   },
   "outputs": [
    {
     "name": "stdout",
     "output_type": "stream",
     "text": [
      "The population:\n",
      "0.1733656908842712\n"
     ]
    }
   ],
   "source": [
    "population_qutip=expect(rho_ss_qutip,a.dag()*a)\n",
    "print(\"The population:\")\n",
    "print(population_qutip)"
   ]
  },
  {
   "cell_type": "markdown",
   "metadata": {},
   "source": [
    "## Bostix"
   ]
  },
  {
   "cell_type": "code",
   "execution_count": 10,
   "metadata": {},
   "outputs": [],
   "source": [
    "H=[[E,\"a\"],[E,\"A\"],[delta,\"Aa\"]]\n",
    "c_ops=[[kappa, \"a\"]]"
   ]
  },
  {
   "cell_type": "code",
   "execution_count": 11,
   "metadata": {},
   "outputs": [
    {
     "name": "stdout",
     "output_type": "stream",
     "text": [
      "DPSolver(dim=[1000], ham=[(0.3, [2]), (0.3, [1]), (0.5, [1, 2])], col=[(1, [2])], _ep_deriver=None, _dp_solver=None)\n"
     ]
    }
   ],
   "source": [
    "Na=1000\n",
    "data = DPSolver(dim=[Na], ham=H, col=c_ops)\n",
    "print(data)"
   ]
  },
  {
   "cell_type": "code",
   "execution_count": 12,
   "metadata": {},
   "outputs": [
    {
     "name": "stdout",
     "output_type": "stream",
     "text": [
      "Time cost:39.03502416610718ms\n"
     ]
    }
   ],
   "source": [
    "ts=time.time()\n",
    "matrix_mapper = data.solve(1000, 1e-5, alpha=0.5)\n",
    "te=time.time()\n",
    "t_bostix=te-ts\n",
    "print(\"Time cost:\"+str(t_bostix)+'ms')"
   ]
  },
  {
   "cell_type": "code",
   "execution_count": null,
   "metadata": {},
   "outputs": [],
   "source": [
    "rho_ss=np.mat(matrix_mapper.row_rho().as_2d_list())\n",
    "print(\"The density matrix:\")\n",
    "print(rho_ss)\n",
    "print(\"The population:\")\n",
    "print(np.real(matrix_mapper.avg_moment([1])))"
   ]
  },
  {
   "cell_type": "markdown",
   "metadata": {},
   "source": [
    "# Decay Rabi Pump Test"
   ]
  },
  {
   "cell_type": "markdown",
   "metadata": {},
   "source": [
    "Two modes with coupling strength g and single mode pumping.\n",
    "$$\n",
    "\\hat{H}=E(\\hat{a}+\\hat{a}^\\dagger)+g(\\hat{a}\\hat{b}^\\dagger+\\hat{a}^\\dagger b)\n",
    "$$"
   ]
  },
  {
   "cell_type": "code",
   "execution_count": null,
   "metadata": {},
   "outputs": [],
   "source": [
    "g=0.4\n",
    "E=0.1\n",
    "kappa_a=1;\n",
    "kappa_b=1;\n",
    "Na=3; Nb=3\n",
    "psi0=tensor(basis(Na,0),basis(Nb,0))\n",
    "a=tensor(destroy(Na),qeye(Nb))\n",
    "b=tensor(qeye(Na),destroy(Nb))\n",
    "H=g*(b*a.dag()+b.dag()*a)+E*(a.dag()+a)\n",
    "c_ops=[]\n",
    "c_ops.append(np.sqrt(kappa_a)*a)\n",
    "c_ops.append(np.sqrt(kappa_b)*b)\n",
    "track=a.dag()*a*b.dag()*b"
   ]
  },
  {
   "cell_type": "code",
   "execution_count": null,
   "metadata": {},
   "outputs": [],
   "source": [
    "ts=time.time()\n",
    "rho_ss_qutip=steadystate(H,c_ops)\n",
    "te=time.time()\n",
    "t_qutip=te-ts\n",
    "print(\"Time cost:\"+str(t_qutip)+'s')"
   ]
  },
  {
   "cell_type": "code",
   "execution_count": null,
   "metadata": {},
   "outputs": [],
   "source": [
    "print(\"The density matrix:\")\n",
    "print(rho_ss_qutip)"
   ]
  },
  {
   "cell_type": "code",
   "execution_count": null,
   "metadata": {},
   "outputs": [],
   "source": [
    "population_qutip=expect(rho_ss_qutip,track)\n",
    "print(\"The population:\")\n",
    "print(population_qutip)"
   ]
  },
  {
   "cell_type": "markdown",
   "metadata": {},
   "source": [
    "## Bostix"
   ]
  },
  {
   "cell_type": "code",
   "execution_count": null,
   "metadata": {},
   "outputs": [],
   "source": [
    "H=[[E,\"a\"],[E,\"A\"],[g,\"aB\"],[g,\"Ab\"]]\n",
    "c_ops=[[kappa_a, \"a\"],[kappa_b,\"b\"]]"
   ]
  },
  {
   "cell_type": "code",
   "execution_count": null,
   "metadata": {},
   "outputs": [],
   "source": [
    "data = DPSolver(dim=[Na,Nb], ham=H, col=c_ops)\n",
    "print(data)"
   ]
  },
  {
   "cell_type": "code",
   "execution_count": null,
   "metadata": {},
   "outputs": [],
   "source": [
    "ts=time.time()\n",
    "matrix_mapper = data.solve(1000, 1e-5, alpha=0.5)\n",
    "te=time.time()\n",
    "t_bostix=te-ts\n",
    "print(\"Time cost:\"+str(t_bostix)+'s')"
   ]
  },
  {
   "cell_type": "code",
   "execution_count": null,
   "metadata": {},
   "outputs": [],
   "source": [
    "rho_ss=np.mat(matrix_mapper.row_rho().as_2d_list())\n",
    "print(\"The density Matrix:\")\n",
    "print(rho_ss)\n",
    "print(\"Population:\")\n",
    "print(np.real(matrix_mapper.avg_moment([1,1])))"
   ]
  },
  {
   "cell_type": "markdown",
   "metadata": {},
   "source": [
    "# SHG"
   ]
  },
  {
   "cell_type": "markdown",
   "metadata": {},
   "source": [
    "## QuTiP"
   ]
  },
  {
   "cell_type": "code",
   "execution_count": null,
   "metadata": {},
   "outputs": [],
   "source": [
    "g=0.1\n",
    "E=0.1\n",
    "kappa_a=1;\n",
    "kappa_b=1;\n",
    "Na=3; Nb=2\n",
    "psi0=tensor(basis(Na,0),basis(Nb,0))\n",
    "a=tensor(destroy(Na),qeye(Nb))\n",
    "b=tensor(qeye(Na),destroy(Nb))\n",
    "H=g*(b*a.dag()*a.dag()+b.dag()*a*a)+E*(a.dag()+a)\n",
    "c_ops=[]\n",
    "c_ops.append(np.sqrt(kappa_a)*a)\n",
    "c_ops.append(np.sqrt(kappa_b)*b)\n",
    "track=a.dag()*a*b.dag()*b"
   ]
  },
  {
   "cell_type": "code",
   "execution_count": null,
   "metadata": {},
   "outputs": [],
   "source": [
    "ts=time.time()\n",
    "rho_ss_qutip=steadystate(H,c_ops)\n",
    "te=time.time()\n",
    "t_qutip=te-ts\n",
    "print(\"Time cost:\"+str(t_qutip)+'s')"
   ]
  },
  {
   "cell_type": "code",
   "execution_count": null,
   "metadata": {},
   "outputs": [],
   "source": [
    "print(\"The density matrix\")\n",
    "print(rho_ss_qutip)"
   ]
  },
  {
   "cell_type": "code",
   "execution_count": null,
   "metadata": {},
   "outputs": [],
   "source": [
    "population_qutip=expect(rho_ss_qutip,track)\n",
    "print(\"The population\")\n",
    "print(population_qutip)"
   ]
  },
  {
   "cell_type": "markdown",
   "metadata": {},
   "source": [
    "## Bostix"
   ]
  },
  {
   "cell_type": "code",
   "execution_count": null,
   "metadata": {},
   "outputs": [],
   "source": [
    "H=[[E,\"a\"],[E,\"A\"],[g,\"aBB\"],[g,\"Abb\"]]\n",
    "c_ops=[[kappa_a, \"a\"],[kappa_b,\"b\"]]"
   ]
  },
  {
   "cell_type": "code",
   "execution_count": null,
   "metadata": {},
   "outputs": [],
   "source": [
    "data = DPSolver(dim=[Na,Nb], ham=H, col=c_ops)\n",
    "print(data)"
   ]
  },
  {
   "cell_type": "code",
   "execution_count": null,
   "metadata": {},
   "outputs": [],
   "source": [
    "ts=time.time()\n",
    "matrix_mapper = data.solve(1000, 1e-6, alpha=0.5)\n",
    "te=time.time()\n",
    "t_bostix=te-ts\n",
    "print(\"Time cost:\"+str(t_bostix)+'s')"
   ]
  },
  {
   "cell_type": "code",
   "execution_count": null,
   "metadata": {},
   "outputs": [],
   "source": [
    "rho_ss=np.mat(matrix_mapper.row_rho().as_2d_list())\n",
    "print(\"The density matrix\")\n",
    "print(rho_ss)\n",
    "print(\"The population\")\n",
    "print(np.real(matrix_mapper.avg_moment([1,1])))"
   ]
  },
  {
   "cell_type": "markdown",
   "metadata": {},
   "source": [
    "# Acknownledgement"
   ]
  },
  {
   "cell_type": "markdown",
   "metadata": {},
   "source": [
    "The package and the test code can be found here: [Bostix](https://github.com/yesunhuang/QuantumBosonicSteadyDensityMatrix)\n",
    "\n",
    "Document Author: YesunHuang\n",
    "\n",
    "Package Author: YesunHuang&ChaoGu&KeLin&Mint"
   ]
  }
 ],
 "metadata": {
  "kernelspec": {
   "display_name": "Python 3",
   "language": "python",
   "name": "python3"
  },
  "language_info": {
   "codemirror_mode": {
    "name": "ipython",
    "version": 3
   },
   "file_extension": ".py",
   "mimetype": "text/x-python",
   "name": "python",
   "nbconvert_exporter": "python",
   "pygments_lexer": "ipython3",
   "version": "3.9.4"
  },
  "toc": {
   "base_numbering": 1,
   "nav_menu": {},
   "number_sections": true,
   "sideBar": true,
   "skip_h1_title": false,
   "title_cell": "Table of Contents",
   "title_sidebar": "Contents",
   "toc_cell": false,
   "toc_position": {},
   "toc_section_display": true,
   "toc_window_display": false
  }
 },
 "nbformat": 4,
 "nbformat_minor": 4
}
