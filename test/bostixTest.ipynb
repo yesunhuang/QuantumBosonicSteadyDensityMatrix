{
 "cells": [
  {
   "cell_type": "code",
   "execution_count": null,
   "metadata": {},
   "outputs": [],
   "source": [
    "#import all the things we need\n",
    "%matplotlib inline\n",
    "from qutip import*\n",
    "import numpy as np\n",
    "\n",
    "from scipy import *\n",
    "\n",
    "import matplotlib.pyplot as plt\n",
    "from mpl_toolkits.mplot3d import axes3d\n",
    "from matplotlib import cm\n",
    "from matplotlib.ticker import LinearLocator, FormatStrFormatter\n",
    "from matplotlib.pyplot import MultipleLocator\n",
    "\n",
    "import time\n",
    "\n",
    "from bostix.solver import DPSolver"
   ]
  },
  {
   "cell_type": "markdown",
   "metadata": {},
   "source": [
    "# Decay Test"
   ]
  },
  {
   "cell_type": "code",
   "execution_count": 15,
   "metadata": {},
   "outputs": [
    {
     "name": "stdout",
     "output_type": "stream",
     "text": [
      "DPSolver(dim=[4], ham=[], col=[(1, [2])], _ep_deriver=None, _dp_solver=None)\n"
     ]
    }
   ],
   "source": [
    "data = DPSolver(dim=[4], ham=[], col=[(1, \"a\")])\n",
    "print(data)"
   ]
  },
  {
   "cell_type": "code",
   "execution_count": 16,
   "metadata": {},
   "outputs": [
    {
     "name": "stdout",
     "output_type": "stream",
     "text": [
      "[[1.+0.j 0.+0.j 0.+0.j 0.+0.j]\n",
      " [0.+0.j 0.+0.j 0.+0.j 0.+0.j]\n",
      " [0.+0.j 0.+0.j 0.+0.j 0.+0.j]\n",
      " [0.+0.j 0.+0.j 0.+0.j 0.+0.j]]\n",
      "0j\n"
     ]
    }
   ],
   "source": [
    "matrix_mapper = data.solve(1000, 1e-5, alpha=0.5)\n",
    "rho_ss=np.mat(matrix_mapper.row_rho().as_2d_list())\n",
    "print(rho_ss)\n",
    "print(matrix_mapper.avg_moment([1]))"
   ]
  },
  {
   "cell_type": "markdown",
   "metadata": {},
   "source": [
    "# Single Mode Pump Test"
   ]
  },
  {
   "cell_type": "markdown",
   "metadata": {},
   "source": [
    "## QuTip"
   ]
  },
  {
   "cell_type": "code",
   "execution_count": 17,
   "metadata": {},
   "outputs": [],
   "source": [
    "E=0.2\n",
    "kappa=1\n",
    "delta=0.5;\n",
    "Na=3; \n",
    "a=destroy(Na)\n",
    "H=E*(a.dag()+a)+delta*a.dag()*a\n",
    "psi0=basis(Na,0)\n",
    "track=[a.dag()*a]\n",
    "c_ops=[]\n",
    "c_ops.append(np.sqrt(kappa)*a)"
   ]
  },
  {
   "cell_type": "code",
   "execution_count": 18,
   "metadata": {},
   "outputs": [],
   "source": [
    "tlist=np.linspace(0,15,1000)\n",
    "opts = Options()\n",
    "opts.store_states=True\n",
    "output=mesolve(H,psi0,tlist,c_ops,track,options=opts)"
   ]
  },
  {
   "cell_type": "code",
   "execution_count": 19,
   "metadata": {},
   "outputs": [
    {
     "data": {
      "text/plain": [
       "Text(0, 0.5, '$N_c$')"
      ]
     },
     "execution_count": 19,
     "metadata": {},
     "output_type": "execute_result"
    },
    {
     "data": {
      "image/png": "[encoded data removed]",
      "text/plain": [
       "<Figure size 288x288 with 1 Axes>"
      ]
     },
     "metadata": {
      "needs_background": "light"
     },
     "output_type": "display_data"
    }
   ],
   "source": [
    "fig, axes = plt.subplots(1,1,figsize=(4,4))\n",
    "\n",
    "#axes.yaxis.set_major_formatter(FormatStrFormatter('%.1f'))\n",
    "\n",
    "axes.plot(tlist, output.expect[0],linewidth=3,label=\"QME\")\n",
    "\n",
    "axes.legend(loc=0,ncol=1,frameon=False)\n",
    "\n",
    "axes.set_xlabel('Time/'+r'$\\kappa_a$')\n",
    "axes.set_ylabel(r'$N_c$')"
   ]
  },
  {
   "cell_type": "code",
   "execution_count": 20,
   "metadata": {},
   "outputs": [
    {
     "name": "stdout",
     "output_type": "stream",
     "text": [
      "0.0029973983764648438\n"
     ]
    }
   ],
   "source": [
    "ts=time.time()\n",
    "rho_ss_qutip=steadystate(H,c_ops)\n",
    "te=time.time()\n",
    "t_qutip=te-ts\n",
    "print(t_qutip)"
   ]
  },
  {
   "cell_type": "code",
   "execution_count": 21,
   "metadata": {},
   "outputs": [
    {
     "name": "stdout",
     "output_type": "stream",
     "text": [
      "Quantum object: dims = [[3], [3]], shape = (3, 3), type = oper, isherm = True\n",
      "Qobj data =\n",
      "[[ 9.23531316e-01+1.32839792e-17j -1.84028021e-01+1.84207060e-01j\n",
      "  -4.58615206e-05-5.00691861e-02j]\n",
      " [-1.84028021e-01-1.84207060e-01j  7.36371541e-02-1.29253653e-17j\n",
      "  -1.00082130e-02+1.00167056e-02j]\n",
      " [-4.58615206e-05+5.00691861e-02j -1.00082130e-02-1.00167056e-02j\n",
      "   2.83152990e-03-2.16502184e-19j]]\n",
      "Quantum object: dims = [[3], [3]], shape = (3, 3), type = oper, isherm = True\n",
      "Qobj data =\n",
      "[[ 9.23512748e-01+0.j         -1.84135977e-01+0.18413598j\n",
      "   3.39720251e-19-0.05007838j]\n",
      " [-1.84135977e-01-0.18413598j  7.36543909e-02+0.j\n",
      "  -1.00156768e-02+0.01001568j]\n",
      " [ 3.39720251e-19+0.05007838j -1.00156768e-02-0.01001568j\n",
      "   2.83286119e-03+0.j        ]]\n"
     ]
    }
   ],
   "source": [
    "print(output.states[-1])\n",
    "print(rho_ss_qutip)"
   ]
  },
  {
   "cell_type": "code",
   "execution_count": 22,
   "metadata": {},
   "outputs": [
    {
     "name": "stdout",
     "output_type": "stream",
     "text": [
      "0.0793201133144476\n"
     ]
    }
   ],
   "source": [
    "population_qutip=expect(rho_ss_qutip,a.dag()*a)\n",
    "print(population_qutip)"
   ]
  },
  {
   "cell_type": "markdown",
   "metadata": {},
   "source": [
    "## Bostix"
   ]
  },
  {
   "cell_type": "code",
   "execution_count": 23,
   "metadata": {},
   "outputs": [],
   "source": [
    "H=[[E,\"a\"],[E,\"A\"],[delta,\"Aa\"]]\n",
    "c_ops=[[kappa, \"a\"]]"
   ]
  },
  {
   "cell_type": "code",
   "execution_count": 24,
   "metadata": {},
   "outputs": [
    {
     "name": "stdout",
     "output_type": "stream",
     "text": [
      "DPSolver(dim=[3], ham=[(0.2, [2]), (0.2, [1]), (0.5, [1, 2])], col=[(1, [2])], _ep_deriver=None, _dp_solver=None)\n"
     ]
    }
   ],
   "source": [
    "data = DPSolver(dim=[Na], ham=H, col=c_ops)\n",
    "print(data)"
   ]
  },
  {
   "cell_type": "code",
   "execution_count": 25,
   "metadata": {},
   "outputs": [
    {
     "name": "stdout",
     "output_type": "stream",
     "text": [
      "0.0020270347595214844\n"
     ]
    }
   ],
   "source": [
    "ts=time.time()\n",
    "matrix_mapper = data.solve(1000, 1e-5, alpha=0.5)\n",
    "te=time.time()\n",
    "t_bostix=te-ts\n",
    "print(t_bostix)"
   ]
  },
  {
   "cell_type": "code",
   "execution_count": 26,
   "metadata": {},
   "outputs": [
    {
     "name": "stdout",
     "output_type": "stream",
     "text": [
      "[[ 9.23512748e-01+7.32620648e-19j -1.84135977e-01+1.84135977e-01j\n",
      "   1.22552422e-11-5.00783840e-02j]\n",
      " [-1.84135977e-01-1.84135977e-01j  7.36543910e-02-7.34867951e-19j\n",
      "  -1.00156768e-02+1.00156768e-02j]\n",
      " [ 1.22552421e-11+5.00783840e-02j -1.00156768e-02-1.00156768e-02j\n",
      "   2.83286120e-03+2.24730261e-21j]]\n",
      "0.0793201133870368\n"
     ]
    }
   ],
   "source": [
    "rho_ss=np.mat(matrix_mapper.row_rho().as_2d_list())\n",
    "print(rho_ss)\n",
    "print(np.real(matrix_mapper.avg_moment([1])))"
   ]
  },
  {
   "cell_type": "markdown",
   "metadata": {},
   "source": [
    "# Decay Rabi Pump Test"
   ]
  },
  {
   "cell_type": "code",
   "execution_count": 27,
   "metadata": {},
   "outputs": [],
   "source": [
    "g=0.4\n",
    "E=0.1\n",
    "kappa_a=1;\n",
    "kappa_b=1;\n",
    "Na=3; Nb=3\n",
    "psi0=tensor(basis(Na,0),basis(Nb,0))\n",
    "a=tensor(destroy(Na),qeye(Nb))\n",
    "b=tensor(qeye(Na),destroy(Nb))\n",
    "H=g*(b*a.dag()+b.dag()*a)+E*(a.dag()+a)\n",
    "c_ops=[]\n",
    "c_ops.append(np.sqrt(kappa_a)*a)\n",
    "c_ops.append(np.sqrt(kappa_b)*b)\n",
    "track=a.dag()*a*b.dag()*b"
   ]
  },
  {
   "cell_type": "code",
   "execution_count": 28,
   "metadata": {},
   "outputs": [
    {
     "name": "stdout",
     "output_type": "stream",
     "text": [
      "0.003962993621826172\n"
     ]
    }
   ],
   "source": [
    "ts=time.time()\n",
    "rho_ss_qutip=steadystate(H,c_ops)\n",
    "te=time.time()\n",
    "t_qutip=te-ts\n",
    "print(t_qutip)"
   ]
  },
  {
   "cell_type": "code",
   "execution_count": 29,
   "metadata": {},
   "outputs": [
    {
     "name": "stdout",
     "output_type": "stream",
     "text": [
      "Quantum object: dims = [[3, 3], [3, 3]], shape = (9, 9), type = oper, isherm = True\n",
      "Qobj data =\n",
      "[[ 9.75905838e-01+0.00000000e+00j -9.51970246e-02+0.00000000e+00j\n",
      "   6.50238433e-03+0.00000000e+00j  0.00000000e+00+1.19018764e-01j\n",
      "   0.00000000e+00-1.16043157e-02j  0.00000000e+00+7.87523639e-04j\n",
      "  -1.02086128e-02+0.00000000e+00j  6.73666336e-04+0.00000000e+00j\n",
      "  -5.53488183e-05+0.00000000e+00j]\n",
      " [-9.51970246e-02+0.00000000e+00j  9.28741979e-03+0.00000000e+00j\n",
      "  -6.34394739e-04+0.00000000e+00j  0.00000000e+00-1.16105282e-02j\n",
      "   0.00000000e+00+1.13210656e-03j  0.00000000e+00-7.68337761e-05j\n",
      "   9.95850257e-04+0.00000000e+00j -6.57209748e-05+0.00000000e+00j\n",
      "   5.39999552e-06+0.00000000e+00j]\n",
      " [ 6.50238433e-03+0.00000000e+00j -6.34394739e-04+0.00000000e+00j\n",
      "   4.35733538e-05+0.00000000e+00j  0.00000000e+00+7.93038070e-04j\n",
      "   0.00000000e+00-7.73950018e-05j  0.00000000e+00+5.28093253e-06j\n",
      "  -6.82067763e-05+0.00000000e+00j  4.48705263e-06+0.00000000e+00j\n",
      "  -3.71977817e-07+0.00000000e+00j]\n",
      " [ 0.00000000e+00-1.19018764e-01j  0.00000000e+00+1.16105282e-02j\n",
      "   0.00000000e+00-7.93038070e-04j  1.45163330e-02+0.00000000e+00j\n",
      "  -1.41532136e-03+0.00000000e+00j  9.60482548e-05+0.00000000e+00j\n",
      "   0.00000000e+00+1.24510952e-03j  0.00000000e+00-8.21639423e-05j\n",
      "   0.00000000e+00+6.75024457e-06j]\n",
      " [ 0.00000000e+00+1.16043157e-02j  0.00000000e+00-1.13210656e-03j\n",
      "   0.00000000e+00+7.73950018e-05j -1.41532136e-03+0.00000000e+00j\n",
      "   1.38271815e-04+0.00000000e+00j -9.38357961e-06+0.00000000e+00j\n",
      "   0.00000000e+00-1.21745432e-04j  0.00000000e+00+8.04606615e-06j\n",
      "   0.00000000e+00-6.60458362e-07j]\n",
      " [ 0.00000000e+00-7.87523639e-04j  0.00000000e+00+7.68337761e-05j\n",
      "   0.00000000e+00-5.28093253e-06j  9.60482548e-05+0.00000000e+00j\n",
      "  -9.38357961e-06+0.00000000e+00j  6.40445189e-07+0.00000000e+00j\n",
      "   0.00000000e+00+8.27358844e-06j  0.00000000e+00-5.44708772e-07j\n",
      "   0.00000000e+00+4.51485901e-08j]\n",
      " [-1.02086128e-02+0.00000000e+00j  9.95850257e-04+0.00000000e+00j\n",
      "  -6.82067763e-05+0.00000000e+00j  0.00000000e+00-1.24510952e-03j\n",
      "   0.00000000e+00+1.21745432e-04j  0.00000000e+00-8.27358844e-06j\n",
      "   1.07450564e-04+0.00000000e+00j -7.08839986e-06+0.00000000e+00j\n",
      "   5.83693057e-07+0.00000000e+00j]\n",
      " [ 6.73666336e-04+0.00000000e+00j -6.57209748e-05+0.00000000e+00j\n",
      "   4.48705263e-06+0.00000000e+00j  0.00000000e+00+8.21639423e-05j\n",
      "   0.00000000e+00-8.04606615e-06j  0.00000000e+00+5.44708772e-07j\n",
      "  -7.08839986e-06+0.00000000e+00j  4.70207371e-07+0.00000000e+00j\n",
      "  -3.83764281e-08+0.00000000e+00j]\n",
      " [-5.53488183e-05+0.00000000e+00j  5.39999552e-06+0.00000000e+00j\n",
      "  -3.71977817e-07+0.00000000e+00j  0.00000000e+00-6.75024457e-06j\n",
      "   0.00000000e+00+6.60458362e-07j  0.00000000e+00-4.51485901e-08j\n",
      "   5.83693057e-07+0.00000000e+00j -3.83764281e-08+0.00000000e+00j\n",
      "   3.19248743e-09+0.00000000e+00j]]\n"
     ]
    }
   ],
   "source": [
    "print(rho_ss_qutip)"
   ]
  },
  {
   "cell_type": "code",
   "execution_count": 30,
   "metadata": {},
   "outputs": [
    {
     "name": "stdout",
     "output_type": "stream",
     "text": [
      "0.00014050588966242416\n"
     ]
    }
   ],
   "source": [
    "population_qutip=expect(rho_ss_qutip,track)\n",
    "print(population_qutip)"
   ]
  },
  {
   "cell_type": "markdown",
   "metadata": {},
   "source": [
    "## Bostix"
   ]
  },
  {
   "cell_type": "code",
   "execution_count": 31,
   "metadata": {},
   "outputs": [],
   "source": [
    "H=[[E,\"a\"],[E,\"A\"],[g,\"aB\"],[g,\"Ab\"]]\n",
    "c_ops=[[kappa_a, \"a\"],[kappa_b,\"b\"]]"
   ]
  },
  {
   "cell_type": "code",
   "execution_count": 32,
   "metadata": {},
   "outputs": [
    {
     "name": "stdout",
     "output_type": "stream",
     "text": [
      "DPSolver(dim=[3, 3], ham=[(0.1, [2]), (0.1, [1]), (0.4, [2, 3]), (0.4, [1, 4])], col=[(1, [2]), (1, [4])], _ep_deriver=None, _dp_solver=None)\n"
     ]
    }
   ],
   "source": [
    "data = DPSolver(dim=[Na,Nb], ham=H, col=c_ops)\n",
    "print(data)"
   ]
  },
  {
   "cell_type": "code",
   "execution_count": 33,
   "metadata": {},
   "outputs": [
    {
     "name": "stdout",
     "output_type": "stream",
     "text": [
      "0.02003765106201172\n"
     ]
    }
   ],
   "source": [
    "ts=time.time()\n",
    "matrix_mapper = data.solve(1000, 1e-5, alpha=0.5)\n",
    "te=time.time()\n",
    "t_bostix=te-ts\n",
    "print(t_bostix)"
   ]
  },
  {
   "cell_type": "code",
   "execution_count": 34,
   "metadata": {},
   "outputs": [
    {
     "name": "stdout",
     "output_type": "stream",
     "text": [
      "[[ 9.75905838e-01+0.00000000e+00j -9.51970245e-02+0.00000000e+00j\n",
      "   6.50238435e-03+0.00000000e+00j  0.00000000e+00+1.19018764e-01j\n",
      "   0.00000000e+00-1.16043157e-02j  0.00000000e+00+7.87523636e-04j\n",
      "  -1.02086128e-02+0.00000000e+00j  6.73666339e-04+0.00000000e+00j\n",
      "  -5.53488182e-05+0.00000000e+00j]\n",
      " [-9.51970245e-02+0.00000000e+00j  9.28741982e-03+0.00000000e+00j\n",
      "  -6.34394735e-04+0.00000000e+00j  0.00000000e+00-1.16105283e-02j\n",
      "   0.00000000e+00+1.13210654e-03j  0.00000000e+00-7.68337774e-05j\n",
      "   9.95850264e-04+0.00000000e+00j -6.57209741e-05+0.00000000e+00j\n",
      "   5.39999554e-06+0.00000000e+00j]\n",
      " [ 6.50238435e-03+0.00000000e+00j -6.34394735e-04+0.00000000e+00j\n",
      "   4.35733538e-05+0.00000000e+00j  0.00000000e+00+7.93038061e-04j\n",
      "   0.00000000e+00-7.73950045e-05j  0.00000000e+00+5.28093229e-06j\n",
      "  -6.82067758e-05+0.00000000e+00j  4.48705256e-06+0.00000000e+00j\n",
      "  -3.71977825e-07+0.00000000e+00j]\n",
      " [ 0.00000000e+00-1.19018764e-01j  0.00000000e+00+1.16105283e-02j\n",
      "   0.00000000e+00-7.93038061e-04j  1.45163330e-02+0.00000000e+00j\n",
      "  -1.41532137e-03+0.00000000e+00j  9.60482541e-05+0.00000000e+00j\n",
      "   0.00000000e+00+1.24510953e-03j  0.00000000e+00-8.21639400e-05j\n",
      "   0.00000000e+00+6.75024468e-06j]\n",
      " [ 0.00000000e+00+1.16043157e-02j  0.00000000e+00-1.13210654e-03j\n",
      "   0.00000000e+00+7.73950045e-05j -1.41532137e-03+0.00000000e+00j\n",
      "   1.38271814e-04+0.00000000e+00j -9.38357954e-06+0.00000000e+00j\n",
      "   0.00000000e+00-1.21745428e-04j  0.00000000e+00+8.04606679e-06j\n",
      "   0.00000000e+00-6.60458334e-07j]\n",
      " [ 0.00000000e+00-7.87523636e-04j  0.00000000e+00+7.68337774e-05j\n",
      "   0.00000000e+00-5.28093229e-06j  9.60482541e-05+0.00000000e+00j\n",
      "  -9.38357954e-06+0.00000000e+00j  6.40445225e-07+0.00000000e+00j\n",
      "   0.00000000e+00+8.27358888e-06j  0.00000000e+00-5.44708717e-07j\n",
      "   0.00000000e+00+4.51485925e-08j]\n",
      " [-1.02086128e-02+0.00000000e+00j  9.95850264e-04+0.00000000e+00j\n",
      "  -6.82067758e-05+0.00000000e+00j  0.00000000e+00-1.24510953e-03j\n",
      "   0.00000000e+00+1.21745428e-04j  0.00000000e+00-8.27358888e-06j\n",
      "   1.07450566e-04+0.00000000e+00j -7.08839982e-06+0.00000000e+00j\n",
      "   5.83693052e-07+0.00000000e+00j]\n",
      " [ 6.73666339e-04+0.00000000e+00j -6.57209741e-05+0.00000000e+00j\n",
      "   4.48705256e-06+0.00000000e+00j  0.00000000e+00+8.21639400e-05j\n",
      "   0.00000000e+00-8.04606679e-06j  0.00000000e+00+5.44708717e-07j\n",
      "  -7.08839982e-06+0.00000000e+00j  4.70207332e-07+0.00000000e+00j\n",
      "  -3.83764319e-08+0.00000000e+00j]\n",
      " [-5.53488182e-05+0.00000000e+00j  5.39999554e-06+0.00000000e+00j\n",
      "  -3.71977825e-07+0.00000000e+00j  0.00000000e+00-6.75024468e-06j\n",
      "   0.00000000e+00+6.60458334e-07j  0.00000000e+00-4.51485925e-08j\n",
      "   5.83693052e-07+0.00000000e+00j -3.83764319e-08+0.00000000e+00j\n",
      "   3.19248710e-09+0.00000000e+00j]]\n",
      "0.00014050588865670256\n"
     ]
    }
   ],
   "source": [
    "rho_ss=np.mat(matrix_mapper.row_rho().as_2d_list())\n",
    "print(rho_ss)\n",
    "print(np.real(matrix_mapper.avg_moment([1,1])))"
   ]
  },
  {
   "cell_type": "markdown",
   "metadata": {},
   "source": [
    "# SHG"
   ]
  },
  {
   "cell_type": "markdown",
   "metadata": {},
   "source": [
    "## QuTiP"
   ]
  },
  {
   "cell_type": "code",
   "execution_count": 74,
   "metadata": {},
   "outputs": [],
   "source": [
    "g=0.1\n",
    "E=0.1\n",
    "kappa_a=1;\n",
    "kappa_b=1;\n",
    "Na=2; Nb=2\n",
    "psi0=tensor(basis(Na,0),basis(Nb,0))\n",
    "a=tensor(destroy(Na),qeye(Nb))\n",
    "b=tensor(qeye(Na),destroy(Nb))\n",
    "H=g*(b*a.dag()*a.dag()+b.dag()*a*a)+E*(a.dag()+a)\n",
    "c_ops=[]\n",
    "c_ops.append(np.sqrt(kappa_a)*a)\n",
    "c_ops.append(np.sqrt(kappa_b)*b)\n",
    "track=a.dag()*a*b.dag()*b"
   ]
  },
  {
   "cell_type": "code",
   "execution_count": 75,
   "metadata": {},
   "outputs": [
    {
     "name": "stdout",
     "output_type": "stream",
     "text": [
      "0.002963542938232422\n"
     ]
    }
   ],
   "source": [
    "ts=time.time()\n",
    "rho_ss_qutip=steadystate(H,c_ops)\n",
    "te=time.time()\n",
    "t_qutip=te-ts\n",
    "print(t_qutip)"
   ]
  },
  {
   "cell_type": "code",
   "execution_count": 76,
   "metadata": {},
   "outputs": [
    {
     "name": "stdout",
     "output_type": "stream",
     "text": [
      "Quantum object: dims = [[2, 2], [2, 2]], shape = (4, 4), type = oper, isherm = True\n",
      "Qobj data =\n",
      "[[0.96296296+0.j         0.        +0.j         0.        +0.18518519j\n",
      "  0.        +0.j        ]\n",
      " [0.        +0.j         0.        +0.j         0.        +0.j\n",
      "  0.        +0.j        ]\n",
      " [0.        -0.18518519j 0.        +0.j         0.03703704+0.j\n",
      "  0.        +0.j        ]\n",
      " [0.        +0.j         0.        +0.j         0.        +0.j\n",
      "  0.        +0.j        ]]\n"
     ]
    }
   ],
   "source": [
    "print(rho_ss_qutip)"
   ]
  },
  {
   "cell_type": "code",
   "execution_count": 77,
   "metadata": {},
   "outputs": [
    {
     "name": "stdout",
     "output_type": "stream",
     "text": [
      "0.0\n"
     ]
    }
   ],
   "source": [
    "population_qutip=expect(rho_ss_qutip,track)\n",
    "print(population_qutip)"
   ]
  },
  {
   "cell_type": "markdown",
   "metadata": {},
   "source": [
    "## Bostix"
   ]
  },
  {
   "cell_type": "code",
   "execution_count": 78,
   "metadata": {},
   "outputs": [],
   "source": [
    "H=[[E,\"a\"],[E,\"A\"],[g,\"aBB\"],[g,\"Abb\"]]\n",
    "c_ops=[[kappa_a, \"a\"],[kappa_b,\"b\"]]"
   ]
  },
  {
   "cell_type": "code",
   "execution_count": 79,
   "metadata": {},
   "outputs": [
    {
     "name": "stdout",
     "output_type": "stream",
     "text": [
      "DPSolver(dim=[2, 2], ham=[(0.1, [2]), (0.1, [1]), (0.1, [2, 3, 3]), (0.1, [1, 4, 4])], col=[(1, [2]), (1, [4])], _ep_deriver=None, _dp_solver=None)\n"
     ]
    }
   ],
   "source": [
    "data = DPSolver(dim=[Na,Nb], ham=H, col=c_ops)\n",
    "print(data)"
   ]
  },
  {
   "cell_type": "code",
   "execution_count": 80,
   "metadata": {},
   "outputs": [
    {
     "name": "stdout",
     "output_type": "stream",
     "text": [
      "0.06804108619689941\n"
     ]
    }
   ],
   "source": [
    "ts=time.time()\n",
    "matrix_mapper = data.solve(1000, 1e-10, alpha=0.5)\n",
    "te=time.time()\n",
    "t_bostix=te-ts\n",
    "print(t_bostix)"
   ]
  },
  {
   "cell_type": "code",
   "execution_count": 81,
   "metadata": {},
   "outputs": [
    {
     "name": "stdout",
     "output_type": "stream",
     "text": [
      "[[0.96296296+0.j         0.        +0.j         0.        +0.18518519j\n",
      "  0.        +0.j        ]\n",
      " [0.        +0.j         0.        +0.j         0.        +0.j\n",
      "  0.        +0.j        ]\n",
      " [0.        -0.18518519j 0.        +0.j         0.03703704+0.j\n",
      "  0.        +0.j        ]\n",
      " [0.        +0.j         0.        +0.j         0.        +0.j\n",
      "  0.        +0.j        ]]\n",
      "0.0\n"
     ]
    }
   ],
   "source": [
    "rho_ss=np.mat(matrix_mapper.row_rho().as_2d_list())\n",
    "print(rho_ss)\n",
    "print(np.real(matrix_mapper.avg_moment([1,1])))"
   ]
  },
  {
   "cell_type": "code",
   "execution_count": null,
   "metadata": {},
   "outputs": [],
   "source": []
  },
  {
   "cell_type": "code",
   "execution_count": null,
   "metadata": {},
   "outputs": [],
   "source": []
  }
 ],
 "metadata": {
  "kernelspec": {
   "display_name": "qcls_dev",
   "language": "python",
   "name": "qcls_dev"
  },
  "language_info": {
   "codemirror_mode": {
    "name": "ipython",
    "version": 3
   },
   "file_extension": ".py",
   "mimetype": "text/x-python",
   "name": "python",
   "nbconvert_exporter": "python",
   "pygments_lexer": "ipython3",
   "version": "3.8.5"
  }
 },
 "nbformat": 4,
 "nbformat_minor": 4
}
